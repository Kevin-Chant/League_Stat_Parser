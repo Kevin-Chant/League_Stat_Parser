{
 "cells": [
  {
   "cell_type": "markdown",
   "metadata": {},
   "source": [
    "# Database Interaction and Modification"
   ]
  },
  {
   "cell_type": "code",
   "execution_count": 1,
   "metadata": {
    "collapsed": true
   },
   "outputs": [],
   "source": [
    "import pymysql\n",
    "from os.path import isfile\n",
    "IP = \"50.62.176.249\"\n",
    "DB_USER = \"StatisticsTeam\"\n",
    "SCHEMA_DB = \"information_schema\"\n",
    "WEBSITE_DB = \"RisenWebsite\"\n",
    "TABLES = [\"LeagueTypes\", \"Leagues\", \"Players\", \"Teams\", \"Testing\", \"TournamentCodes\", \"Tcodetesting\"]\n",
    "\n",
    "def load_db_password():\n",
    "    if isfile(\"db_pass.txt\"):\n",
    "        with open(\"db_pass.txt\") as f:\n",
    "            return f.readlines()[0].strip()"
   ]
  },
  {
   "cell_type": "code",
   "execution_count": 6,
   "metadata": {},
   "outputs": [],
   "source": [
    "PASSWORD = load_db_password()"
   ]
  },
  {
   "cell_type": "code",
   "execution_count": 12,
   "metadata": {
    "collapsed": true
   },
   "outputs": [],
   "source": [
    "def format_results(nested_tuples):\n",
    "    rtn_str = \"\"\n",
    "    for row in nested_tuples:\n",
    "        rtn_str += \", \".join([str(item) for item in row]) + \"\\n\\n\\n\"\n",
    "    return rtn_str"
   ]
  },
  {
   "cell_type": "markdown",
   "metadata": {},
   "source": [
    "General format:\n",
    "\n",
    "db = pymysql.connect(IP, DB_USER, PASSWORD, WEBSITE_DB)\n",
    "\n",
    "cursor = db.cursor()\n",
    "\n",
    "cursor.execute(\"Query string\")\n",
    "\n",
    "result = cursor.fetchall()\n",
    "\n",
    "db.close()"
   ]
  },
  {
   "cell_type": "code",
   "execution_count": 43,
   "metadata": {},
   "outputs": [
    {
     "name": "stdout",
     "output_type": "stream",
     "text": [
      "Rampage, 4, 5T, BC, NA04500-b52cba48-7a72-46b8-b1b5-dedaf8a34da8, NA04500-595faafe-b203-4d11-b9dd-9fbdba2ffa98, NA04500-74fd2e64-16d9-4385-a04c-15aa25b223f1, 2, None, None\n",
      "\n",
      "\n",
      "Rampage, 4, 9T9, FU, NA04500-02e76734-eeaf-44db-a018-8c3ed175b053, NA04500-4b8eac31-6b9a-48a9-b8f8-668136a9e36c, NA04500-5e282225-1f89-4461-9a95-36a36bc1c8fb, 2, None, None\n",
      "\n",
      "\n",
      "Rampage, 4, MAL, TES, NA04500-5fb76b07-db9d-4120-b507-efd462582efa, NA04500-0afd4510-5e0a-404e-a8ad-835ecab74f4e, NA04500-b7537f99-b58a-4062-91f6-0dfef3cdc6b7, 2, None, None\n",
      "\n",
      "\n",
      "Rampage, 4, YGB, ME, NA04500-0dcab8db-ce72-48b1-bd10-350b9cb52159, NA04500-d4bdec05-f719-4752-b9d3-3592e13d75be, NA04500-794f7c0f-8292-47fd-99db-a7e6b8c1c5c0, 2, None, None\n",
      "\n",
      "\n",
      "Rampage, 4, T10, T16, NA04500-4a455c6f-29da-45ab-b910-2ad21ad02a70, NA04500-04e7db2e-910e-4c16-bdb9-e030e24247c8, NA04500-6d4584b2-7fa4-47a3-8299-9b6c66daf41b, 2, None, None\n",
      "\n",
      "\n",
      "Rampage, 4, KSR, CO, NA04500-f123d4d8-e113-4609-ae3a-8f35fbcf7b3b, NA04500-0494340b-b207-4a46-9407-78726fcdaf43, NA04500-7b72ca6c-5ee1-429d-85f5-936dc8f24f57, 2, None, None\n",
      "\n",
      "\n",
      "Rampage, 4, PCN, PHG, NA04500-cf7bfb21-00db-42de-8387-d3cb0e20c49b, NA04500-d1f43980-8ca5-43e7-a36c-815074bb77e6, NA04500-7fbd3b7c-7ced-4b61-83c1-97640af76683, 2, None, None\n",
      "\n",
      "\n",
      "Rampage, 4, ABK, ST, NA04500-ed929557-a75e-4d39-9b4f-417fc87bc61e, NA04500-28a41f61-6e00-4cb1-9871-b9f82cb27c94, NA04500-4413460b-9981-4ebe-816e-a2409b244416, 2, None, None\n",
      "\n",
      "\n",
      "Rampage, 4, T21, BMO, NA04500-1ae182a0-7237-4c67-8cd2-7afd6e75e759, NA04500-346a20f9-6fe1-4255-a5c7-fca0eb4dbbfb, NA04500-bfa8bc0d-b5dc-4e83-a7c9-e233916b30ae, 2, None, None\n",
      "\n",
      "\n",
      "Rampage, 4, T9, FTD, NA04500-9698ba2d-73ad-4472-92c6-2cfa974f87fa, NA04500-fb8e5b63-0058-4ced-9537-71baa5dc2eb6, NA04500-a44309c9-d66b-462c-826e-ccae74458621, 2, None, None\n",
      "\n",
      "\n",
      "Rampage, 4, O66, DAB, NA04500-b85b7795-9fbb-4cee-9ba1-6c48feb76396, NA04500-c16c8456-37a1-4c77-9da5-1d048cbbf077, NA04500-5aa5f4e2-2a0e-4d85-b94e-3418606a52a8, 2, None, None\n",
      "\n",
      "\n",
      "Rampage, 4, SOS, HSR, NA04500-9cb3ac57-4125-4560-bf38-524e4bd3c0fa, NA04500-61bff9c3-c878-49e6-b0fb-98cf8d6d38dc, NA04500-ff5a0360-ed52-4acf-957b-9da73f0d7258, 2, None, None\n",
      "\n",
      "\n",
      "\n"
     ]
    }
   ],
   "source": [
    "db = pymysql.connect(IP, DB_USER, PASSWORD, WEBSITE_DB)\n",
    "cursor = db.cursor()\n",
    "cursor.execute(\"SELECT * FROM TournamentCodes WHERE League = 'RAMPAGE' AND Week = 2\")\n",
    "# cursor.execute(\"UPDATE TournamentCodes SET Team1 = 'PIN', Team2 = '0oX' WHERE code1 = 'NA044f5-e0def881-1462-4b45-9e76-98dad870d72d'\")\n",
    "result = cursor.fetchall()\n",
    "db.close()\n",
    "print(format_results(result))"
   ]
  },
  {
   "cell_type": "code",
   "execution_count": null,
   "metadata": {
    "collapsed": true
   },
   "outputs": [],
   "source": []
  }
 ],
 "metadata": {
  "kernelspec": {
   "display_name": "Python 3",
   "language": "python",
   "name": "python3"
  },
  "language_info": {
   "codemirror_mode": {
    "name": "ipython",
    "version": 3
   },
   "file_extension": ".py",
   "mimetype": "text/x-python",
   "name": "python",
   "nbconvert_exporter": "python",
   "pygments_lexer": "ipython3",
   "version": "3.5.1"
  }
 },
 "nbformat": 4,
 "nbformat_minor": 2
}
