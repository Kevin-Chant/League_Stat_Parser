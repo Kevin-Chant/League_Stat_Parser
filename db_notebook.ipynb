{
 "cells": [
  {
   "cell_type": "markdown",
   "metadata": {},
   "source": [
    "# Database Interaction and Modification"
   ]
  },
  {
   "cell_type": "code",
   "execution_count": 1,
   "metadata": {
    "collapsed": true
   },
   "outputs": [],
   "source": [
    "import pymysql\n",
    "from os.path import isfile\n",
    "IP = \"50.62.176.249\"\n",
    "DB_USER = \"StatisticsTeam\"\n",
    "SCHEMA_DB = \"information_schema\"\n",
    "WEBSITE_DB = \"RisenWebsite\"\n",
    "TABLES = [\"LeagueTypes\", \"Leagues\", \"Players\", \"Teams\", \"Testing\", \"TournamentCodes\", \"Tcodetesting\"]\n",
    "\n",
    "def load_db_password():\n",
    "    if isfile(\"db_pass.txt\"):\n",
    "        with open(\"db_pass.txt\") as f:\n",
    "            return f.readlines()[0].strip()"
   ]
  },
  {
   "cell_type": "code",
   "execution_count": 2,
   "metadata": {
    "collapsed": true
   },
   "outputs": [],
   "source": [
    "PASSWORD = load_db_password()"
   ]
  },
  {
   "cell_type": "code",
   "execution_count": 3,
   "metadata": {
    "collapsed": true
   },
   "outputs": [],
   "source": [
    "def format_results(nested_tuples):\n",
    "    rtn_str = \"\"\n",
    "    for row in nested_tuples:\n",
    "        rtn_str += \", \".join([str(item) for item in row]) + \"\\n\\n\\n\"\n",
    "    return rtn_str"
   ]
  },
  {
   "cell_type": "markdown",
   "metadata": {},
   "source": [
    "General format:\n",
    "\n",
    "db = pymysql.connect(IP, DB_USER, PASSWORD, WEBSITE_DB)\n",
    "\n",
    "cursor = db.cursor()\n",
    "\n",
    "cursor.execute(\"Query string\")\n",
    "\n",
    "result = cursor.fetchall()\n",
    "\n",
    "db.close()"
   ]
  },
  {
   "cell_type": "code",
   "execution_count": 5,
   "metadata": {},
   "outputs": [
    {
     "name": "stdout",
     "output_type": "stream",
     "text": [
      "23995960, Best ADC Japan, 32, 14, 4, 0, 32, 53, 63, 0, 34, 89321, 665, -0.05, 8062, 8, 3, 433, 6, 3, 1, 1, 58203, , Rampage\n",
      "\n",
      "\n",
      "37541673, ThatCross, 27, 8, 4, 0, 56, 68, 122, 1, 39, 94148, 701, 0.32, 8062, 7, 0, 389, 1, 1, 1, 0, 52265, , Rampage\n",
      "\n",
      "\n",
      "31153382, Commodore Solly, 13, 9, 4, 0, 54, 92, 132, 0, 59, 37533, 279, -0.13, 8062, 4, 1, 364, 1, 0, 0, 0, 48929, , Rampage\n",
      "\n",
      "\n",
      "36512232, Benneb10, 3, 15, 1, 2, 47, 68, 132, 0, 32, 14310, 150, 0.55, 5736, 1, 0, 262, 0, 0, 0, 0, 25062, , Rampage\n",
      "\n",
      "\n",
      "38383237, hungrycoder, 25, 15, 4, 0, 78, 61, 142, 0, 33, 70737, 526, 1.23, 8062, 8, 3, 424, 2, 0, 0, 0, 57036, , Rampage\n",
      "\n",
      "\n",
      "\n"
     ]
    }
   ],
   "source": [
    "db = pymysql.connect(IP, DB_USER, PASSWORD, WEBSITE_DB)\n",
    "cursor = db.cursor()\n",
    "# cursor.execute(\"SELECT * FROM TournamentCodes WHERE League = 'RAMPAGE' AND Week = 3\")\n",
    "cursor.execute(\"SELECT * FROM Players LIMIT 5\")\n",
    "# cursor.execute(\"UPDATE TournamentCodes SET Team1 = 'PIN', Team2 = '0oX' WHERE code1 = 'NA044f5-e0def881-1462-4b45-9e76-98dad870d72d'\")\n",
    "result = cursor.fetchall()\n",
    "db.close()\n",
    "print(format_results(result))"
   ]
  },
  {
   "cell_type": "code",
   "execution_count": 1,
   "metadata": {
    "collapsed": true
   },
   "outputs": [],
   "source": [
    "from db_access import get_unformatted_tcodes\n",
    "from tournament import get_matches_for_tcode\n",
    "def get_match_history_links(league, week, team):\n",
    "    codes = get_unformatted_tcodes(league, week, team)\n",
    "    linkbase = \"https://matchhistory.na.leagueoflegends.com/en/#match-details/NA1/\"\n",
    "    linksuffix = \"?tab=overview\"\n",
    "    links = []\n",
    "    for code in codes:\n",
    "        matches = get_matches_for_tcode(code)\n",
    "        if matches:\n",
    "            for m in matches:\n",
    "                pid = m[\"participantIdentities\"][0][\"player\"][\"summonerId\"]\n",
    "                link = linkbase + str(m[\"gameId\"]) + \"/\" + str(pid) + linksuffix\n",
    "                links.append(link)\n",
    "    return links\n"
   ]
  },
  {
   "cell_type": "code",
   "execution_count": 21,
   "metadata": {},
   "outputs": [
    {
     "name": "stdout",
     "output_type": "stream",
     "text": [
      "Tcode NA044fb-d6ba5910-df4e-4a84-a482-744eadd647f8 does not have any games associated with it.\n",
      "Tcode NA044fb-c3985748-4892-45f2-b2a3-142ebad66f6a does not have any games associated with it.\n",
      "Tcode NA044fb-1142f8dd-407a-4a05-8634-b0cb5faee541 does not have any games associated with it.\n",
      "\n"
     ]
    }
   ],
   "source": [
    "print(\"\\n\".join(get_match_history_links(\"Dominate\", 2, \"ICP\")))"
   ]
  },
  {
   "cell_type": "code",
   "execution_count": null,
   "metadata": {
    "collapsed": true
   },
   "outputs": [],
   "source": []
  }
 ],
 "metadata": {
  "kernelspec": {
   "display_name": "Python 3",
   "language": "python",
   "name": "python3"
  },
  "language_info": {
   "codemirror_mode": {
    "name": "ipython",
    "version": 3
   },
   "file_extension": ".py",
   "mimetype": "text/x-python",
   "name": "python",
   "nbconvert_exporter": "python",
   "pygments_lexer": "ipython3",
   "version": "3.5.1"
  }
 },
 "nbformat": 4,
 "nbformat_minor": 2
}
